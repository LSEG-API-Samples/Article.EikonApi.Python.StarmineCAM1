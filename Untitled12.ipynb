{
 "cells": [
  {
   "cell_type": "markdown",
   "metadata": {},
   "source": [
    "# Generating Alpha using Starmine Analytical Models - a Python example\n",
    "\n",
    "This article will demonstrate how we can use Starmine Analytical Models to derive insight and generate alpha, in this case, for  equity markets. It is intended as a teaser to intice you to further explore this rich vein rather than a rigorous scientific study. I will be using Eikon and more specifically our new Eikon Data API to access all the data I need to conduct this analysis - however Starmine Analytics is available in other products and delivery channels. I will also provide the Jupyter notebook source via gitub. \n",
    "\n",
    "Pre-requisites: \n",
    "\n",
    "Thomson Reuters Eikon with access to new Eikon Data APIs\n",
    "\n",
    "Python 2.x/3.x\n",
    "\n",
    "Required Python Packages: eikon, pandas, numpy, matplotlib, sklearn, scipy\n",
    "\n",
    "### Starmine Quantitative Analytics\n",
    "\n",
    "In short - StarMine provides a suite of proprietary alpha-generating analytics and models spanning sectors, regions, and markets. The list of models is really broad-based and includes both quantitative analytics (such as smartEstimates) and quantitative models (such as the Combined Alpha Model I will demo here). \n",
    "\n",
    "All of these analytics and models can provide you with new sources of information and subsequently alpha - they are calculated by our Starmine team and delivered to you - saving you many man years of work and research etc. You can find out more about Starmine Analytics by looking at the PDF attached to this article and you can find out more about the Combined Alpha Model by viewing the short 2 min video below."
   ]
  },
  {
   "cell_type": "code",
   "execution_count": 1,
   "metadata": {
    "collapsed": false
   },
   "outputs": [
    {
     "data": {
      "text/html": [
       "<iframe width=\"560\" height=\"315\" src=\"https://www.youtube.com/embed/wNVJEG9Utlo\" frameborder=\"0\" gesture=\"media\" allow=\"encrypted-media\" allowfullscreen></iframe>"
      ],
      "text/plain": [
       "<IPython.core.display.HTML object>"
      ]
     },
     "execution_count": 1,
     "metadata": {},
     "output_type": "execute_result"
    }
   ],
   "source": [
    "from IPython.display import HTML\n",
    "HTML('<iframe width=\"560\" height=\"315\" src=\"https://www.youtube.com/embed/wNVJEG9Utlo\" frameborder=\"0\" gesture=\"media\" allow=\"encrypted-media\" allowfullscreen></iframe>')"
   ]
  },
  {
   "cell_type": "markdown",
   "metadata": {},
   "source": [
    "### How to Access the Starmine and Other Data\n",
    "\n",
    "As mentioned above I will be using Eikon and specifically our new Eikon Data API - which is a really easy to use yet performant web API. At the time of writing this article it is still in Beta - but all Eikon users can access it by simply upgrading their Eikon to v4.0.36+ and going to the developer portal [here](https://developers.thomsonreuters.com/eikon-data-apis) and follow instructions. If you have any questions around the API there are also monitored Q&A forums [here](https://developers.thomsonreuters.com/eikon-data-apis/qa).\n",
    "\n",
    "Once we have access to the Eikon Data API its very straightforward to get the data we need. First lets import some packages we will need to conduct this analysis and also set our App ID (this is available from the App ID generator - see the quick start guide for further details):"
   ]
  },
  {
   "cell_type": "code",
   "execution_count": 2,
   "metadata": {
    "collapsed": false
   },
   "outputs": [],
   "source": [
    "import eikon as ek\n",
    "import pandas as pd\n",
    "import numpy as np\n",
    "import matplotlib.pyplot as plt\n",
    "ek.set_app_id('Your App ID here')"
   ]
  },
  {
   "cell_type": "markdown",
   "metadata": {
    "collapsed": true
   },
   "source": [
    "Next we need to formulate our API call. In this case, I will be requesting data for all Dow Jones Industrial Average index constituents and I will be requesting a mixture of both Reference, Starmine Analytics and Price performance data for 8 quarters - I have made it more generic here - but essentially this is one line of code! One thing to note here is that the 3 Month Total Return is forward looking so its great for this type of analysis ie it does not need to be offset/shifted. And as you will see the API returns the data in a pandas dataframe."
   ]
  },
  {
   "cell_type": "code",
   "execution_count": 3,
   "metadata": {
    "collapsed": false,
    "scrolled": false
   },
   "outputs": [
    {
     "data": {
      "text/html": [
       "<div>\n",
       "<table border=\"1\" class=\"dataframe\">\n",
       "  <thead>\n",
       "    <tr style=\"text-align: right;\">\n",
       "      <th></th>\n",
       "      <th>Instrument</th>\n",
       "      <th>TRBC Industry Group Name</th>\n",
       "      <th>Combined Alpha Model Country Rank</th>\n",
       "      <th>Date</th>\n",
       "      <th>3 Month Total Return</th>\n",
       "    </tr>\n",
       "  </thead>\n",
       "  <tbody>\n",
       "    <tr>\n",
       "      <th>0</th>\n",
       "      <td>MMM.N</td>\n",
       "      <td>Industrial Conglomerates</td>\n",
       "      <td>57.0</td>\n",
       "      <td>2017-09-30T00:00:00Z</td>\n",
       "      <td>1.40588724845</td>\n",
       "    </tr>\n",
       "    <tr>\n",
       "      <th>1</th>\n",
       "      <td>MMM.N</td>\n",
       "      <td></td>\n",
       "      <td>74.0</td>\n",
       "      <td>2017-06-30T00:00:00Z</td>\n",
       "      <td>9.49681533207</td>\n",
       "    </tr>\n",
       "    <tr>\n",
       "      <th>2</th>\n",
       "      <td>MMM.N</td>\n",
       "      <td></td>\n",
       "      <td>65.0</td>\n",
       "      <td>2017-03-31T00:00:00Z</td>\n",
       "      <td>7.83853634636</td>\n",
       "    </tr>\n",
       "    <tr>\n",
       "      <th>3</th>\n",
       "      <td>MMM.N</td>\n",
       "      <td></td>\n",
       "      <td>65.0</td>\n",
       "      <td>2016-12-31T00:00:00Z</td>\n",
       "      <td>1.98169008175</td>\n",
       "    </tr>\n",
       "    <tr>\n",
       "      <th>4</th>\n",
       "      <td>MMM.N</td>\n",
       "      <td></td>\n",
       "      <td>58.0</td>\n",
       "      <td>2016-09-30T00:00:00Z</td>\n",
       "      <td>1.2548750062</td>\n",
       "    </tr>\n",
       "    <tr>\n",
       "      <th>5</th>\n",
       "      <td>MMM.N</td>\n",
       "      <td></td>\n",
       "      <td>54.0</td>\n",
       "      <td>2016-06-30T00:00:00Z</td>\n",
       "      <td>5.71827717603</td>\n",
       "    </tr>\n",
       "    <tr>\n",
       "      <th>6</th>\n",
       "      <td>MMM.N</td>\n",
       "      <td></td>\n",
       "      <td>46.0</td>\n",
       "      <td>2016-03-31T00:00:00Z</td>\n",
       "      <td>11.4201046525</td>\n",
       "    </tr>\n",
       "    <tr>\n",
       "      <th>7</th>\n",
       "      <td>MMM.N</td>\n",
       "      <td></td>\n",
       "      <td>37.0</td>\n",
       "      <td>2015-12-31T00:00:00Z</td>\n",
       "      <td>6.94860740857</td>\n",
       "    </tr>\n",
       "    <tr>\n",
       "      <th>8</th>\n",
       "      <td>AXP.N</td>\n",
       "      <td>Banking Services</td>\n",
       "      <td>66.0</td>\n",
       "      <td>2017-09-30T00:00:00Z</td>\n",
       "      <td>7.78845748316</td>\n",
       "    </tr>\n",
       "    <tr>\n",
       "      <th>9</th>\n",
       "      <td>AXP.N</td>\n",
       "      <td></td>\n",
       "      <td>77.0</td>\n",
       "      <td>2017-06-30T00:00:00Z</td>\n",
       "      <td>6.78786348296</td>\n",
       "    </tr>\n",
       "  </tbody>\n",
       "</table>\n",
       "</div>"
      ],
      "text/plain": [
       "  Instrument  TRBC Industry Group Name  Combined Alpha Model Country Rank  \\\n",
       "0      MMM.N  Industrial Conglomerates                               57.0   \n",
       "1      MMM.N                                                         74.0   \n",
       "2      MMM.N                                                         65.0   \n",
       "3      MMM.N                                                         65.0   \n",
       "4      MMM.N                                                         58.0   \n",
       "5      MMM.N                                                         54.0   \n",
       "6      MMM.N                                                         46.0   \n",
       "7      MMM.N                                                         37.0   \n",
       "8      AXP.N          Banking Services                               66.0   \n",
       "9      AXP.N                                                         77.0   \n",
       "\n",
       "                   Date 3 Month Total Return  \n",
       "0  2017-09-30T00:00:00Z        1.40588724845  \n",
       "1  2017-06-30T00:00:00Z        9.49681533207  \n",
       "2  2017-03-31T00:00:00Z        7.83853634636  \n",
       "3  2016-12-31T00:00:00Z        1.98169008175  \n",
       "4  2016-09-30T00:00:00Z         1.2548750062  \n",
       "5  2016-06-30T00:00:00Z        5.71827717603  \n",
       "6  2016-03-31T00:00:00Z        11.4201046525  \n",
       "7  2015-12-31T00:00:00Z        6.94860740857  \n",
       "8  2017-09-30T00:00:00Z        7.78845748316  \n",
       "9  2017-06-30T00:00:00Z        6.78786348296  "
      ]
     },
     "execution_count": 3,
     "metadata": {},
     "output_type": "execute_result"
    }
   ],
   "source": [
    "RICS = ['0#.dji']\n",
    "fields =['TR.TRBCIndustryGroup','TR.CombinedAlphaCountryRank(SDate=0,EDate=-7,Frq=FQ)','TR.CombinedAlphaCountryRank(SDate=0,EDate=-7,Frq=FQ).Date',\n",
    "         'TR.TotalReturn3Mo(SDate=0,EDate=-7,Frq=FQ)']\n",
    "\n",
    "ids,err=ek.get_data(RICS,fields=fields)\n",
    "ids.head(10)"
   ]
  },
  {
   "cell_type": "markdown",
   "metadata": {},
   "source": [
    "Now that we have our data in a dataframe we may need to do some wrangling to get the types correctly set. The get_data call is the most flexible of calls so this is to be expected. We can easily check the types of data in the dataframe by column:"
   ]
  },
  {
   "cell_type": "code",
   "execution_count": 4,
   "metadata": {
    "collapsed": false
   },
   "outputs": [
    {
     "data": {
      "text/plain": [
       "Instrument                            object\n",
       "TRBC Industry Group Name              object\n",
       "Combined Alpha Model Country Rank    float64\n",
       "Date                                  object\n",
       "3 Month Total Return                  object\n",
       "dtype: object"
      ]
     },
     "execution_count": 4,
     "metadata": {},
     "output_type": "execute_result"
    }
   ],
   "source": [
    "ids.dtypes"
   ]
  },
  {
   "cell_type": "markdown",
   "metadata": {},
   "source": [
    "First we want to turn the Date object (a string) into a datetime type, then we want to set that datetime field as the index for the frame. Secondly, we want to make sure any numeric fields are numeric and any text fields are strings:"
   ]
  },
  {
   "cell_type": "code",
   "execution_count": 5,
   "metadata": {
    "collapsed": false
   },
   "outputs": [
    {
     "data": {
      "text/html": [
       "<div>\n",
       "<table border=\"1\" class=\"dataframe\">\n",
       "  <thead>\n",
       "    <tr style=\"text-align: right;\">\n",
       "      <th></th>\n",
       "      <th>Instrument</th>\n",
       "      <th>TRBC Industry Group Name</th>\n",
       "      <th>Combined Alpha Model Country Rank</th>\n",
       "      <th>3 Month Total Return</th>\n",
       "    </tr>\n",
       "    <tr>\n",
       "      <th>Date</th>\n",
       "      <th></th>\n",
       "      <th></th>\n",
       "      <th></th>\n",
       "      <th></th>\n",
       "    </tr>\n",
       "  </thead>\n",
       "  <tbody>\n",
       "    <tr>\n",
       "      <th>2017-09-30</th>\n",
       "      <td>MMM.N</td>\n",
       "      <td>Industrial Conglomerates</td>\n",
       "      <td>57.0</td>\n",
       "      <td>1.405887</td>\n",
       "    </tr>\n",
       "    <tr>\n",
       "      <th>2017-06-30</th>\n",
       "      <td>MMM.N</td>\n",
       "      <td></td>\n",
       "      <td>74.0</td>\n",
       "      <td>9.496815</td>\n",
       "    </tr>\n",
       "    <tr>\n",
       "      <th>2017-03-31</th>\n",
       "      <td>MMM.N</td>\n",
       "      <td></td>\n",
       "      <td>65.0</td>\n",
       "      <td>7.838536</td>\n",
       "    </tr>\n",
       "    <tr>\n",
       "      <th>2016-12-31</th>\n",
       "      <td>MMM.N</td>\n",
       "      <td></td>\n",
       "      <td>65.0</td>\n",
       "      <td>1.981690</td>\n",
       "    </tr>\n",
       "    <tr>\n",
       "      <th>2016-09-30</th>\n",
       "      <td>MMM.N</td>\n",
       "      <td></td>\n",
       "      <td>58.0</td>\n",
       "      <td>1.254875</td>\n",
       "    </tr>\n",
       "    <tr>\n",
       "      <th>2016-06-30</th>\n",
       "      <td>MMM.N</td>\n",
       "      <td></td>\n",
       "      <td>54.0</td>\n",
       "      <td>5.718277</td>\n",
       "    </tr>\n",
       "    <tr>\n",
       "      <th>2016-03-31</th>\n",
       "      <td>MMM.N</td>\n",
       "      <td></td>\n",
       "      <td>46.0</td>\n",
       "      <td>11.420105</td>\n",
       "    </tr>\n",
       "    <tr>\n",
       "      <th>2015-12-31</th>\n",
       "      <td>MMM.N</td>\n",
       "      <td></td>\n",
       "      <td>37.0</td>\n",
       "      <td>6.948607</td>\n",
       "    </tr>\n",
       "    <tr>\n",
       "      <th>2017-09-30</th>\n",
       "      <td>AXP.N</td>\n",
       "      <td>Banking Services</td>\n",
       "      <td>66.0</td>\n",
       "      <td>7.788457</td>\n",
       "    </tr>\n",
       "    <tr>\n",
       "      <th>2017-06-30</th>\n",
       "      <td>AXP.N</td>\n",
       "      <td></td>\n",
       "      <td>77.0</td>\n",
       "      <td>6.787863</td>\n",
       "    </tr>\n",
       "  </tbody>\n",
       "</table>\n",
       "</div>"
      ],
      "text/plain": [
       "           Instrument  TRBC Industry Group Name  \\\n",
       "Date                                              \n",
       "2017-09-30      MMM.N  Industrial Conglomerates   \n",
       "2017-06-30      MMM.N                             \n",
       "2017-03-31      MMM.N                             \n",
       "2016-12-31      MMM.N                             \n",
       "2016-09-30      MMM.N                             \n",
       "2016-06-30      MMM.N                             \n",
       "2016-03-31      MMM.N                             \n",
       "2015-12-31      MMM.N                             \n",
       "2017-09-30      AXP.N          Banking Services   \n",
       "2017-06-30      AXP.N                             \n",
       "\n",
       "            Combined Alpha Model Country Rank  3 Month Total Return  \n",
       "Date                                                                 \n",
       "2017-09-30                               57.0              1.405887  \n",
       "2017-06-30                               74.0              9.496815  \n",
       "2017-03-31                               65.0              7.838536  \n",
       "2016-12-31                               65.0              1.981690  \n",
       "2016-09-30                               58.0              1.254875  \n",
       "2016-06-30                               54.0              5.718277  \n",
       "2016-03-31                               46.0             11.420105  \n",
       "2015-12-31                               37.0              6.948607  \n",
       "2017-09-30                               66.0              7.788457  \n",
       "2017-06-30                               77.0              6.787863  "
      ]
     },
     "execution_count": 5,
     "metadata": {},
     "output_type": "execute_result"
    }
   ],
   "source": [
    "ids['Date']=pd.to_datetime(ids['Date'])\n",
    "ads=ids.set_index('Date')[['Instrument','TRBC Industry Group Name','Combined Alpha Model Country Rank','3 Month Total Return']]\n",
    "ads['3 Month Total Return'] = ads['3 Month Total Return'].astype(str).astype(np.float64)\n",
    "ads['TRBC Industry Group Name'] = ads['TRBC Industry Group Name'].astype(str)\n",
    "ads.head(10)"
   ]
  },
  {
   "cell_type": "markdown",
   "metadata": {},
   "source": [
    "A bit more wrangling is required here as we can see for example that the API has returned the TRBC Industry Group only for the most current instance of each instrument - not for the historical quarters. We can recitfy this easily in 2 lines of code. First we will replace blanks with nan (not a number). We can then use the excellent and surgical fillna dataframe function to fill the Sector name to the historic quarters: "
   ]
  },
  {
   "cell_type": "code",
   "execution_count": 6,
   "metadata": {
    "collapsed": true
   },
   "outputs": [],
   "source": [
    "ads1 = ads.replace('', np.nan, regex=True)"
   ]
  },
  {
   "cell_type": "code",
   "execution_count": 7,
   "metadata": {
    "collapsed": false
   },
   "outputs": [
    {
     "data": {
      "text/html": [
       "<div>\n",
       "<table border=\"1\" class=\"dataframe\">\n",
       "  <thead>\n",
       "    <tr style=\"text-align: right;\">\n",
       "      <th></th>\n",
       "      <th>Instrument</th>\n",
       "      <th>TRBC Industry Group Name</th>\n",
       "      <th>Combined Alpha Model Country Rank</th>\n",
       "      <th>3 Month Total Return</th>\n",
       "    </tr>\n",
       "    <tr>\n",
       "      <th>Date</th>\n",
       "      <th></th>\n",
       "      <th></th>\n",
       "      <th></th>\n",
       "      <th></th>\n",
       "    </tr>\n",
       "  </thead>\n",
       "  <tbody>\n",
       "    <tr>\n",
       "      <th>2017-09-30</th>\n",
       "      <td>MMM.N</td>\n",
       "      <td>Industrial Conglomerates</td>\n",
       "      <td>57.0</td>\n",
       "      <td>1.405887</td>\n",
       "    </tr>\n",
       "    <tr>\n",
       "      <th>2017-06-30</th>\n",
       "      <td>MMM.N</td>\n",
       "      <td>Industrial Conglomerates</td>\n",
       "      <td>74.0</td>\n",
       "      <td>9.496815</td>\n",
       "    </tr>\n",
       "    <tr>\n",
       "      <th>2017-03-31</th>\n",
       "      <td>MMM.N</td>\n",
       "      <td>Industrial Conglomerates</td>\n",
       "      <td>65.0</td>\n",
       "      <td>7.838536</td>\n",
       "    </tr>\n",
       "    <tr>\n",
       "      <th>2016-12-31</th>\n",
       "      <td>MMM.N</td>\n",
       "      <td>Industrial Conglomerates</td>\n",
       "      <td>65.0</td>\n",
       "      <td>1.981690</td>\n",
       "    </tr>\n",
       "    <tr>\n",
       "      <th>2016-09-30</th>\n",
       "      <td>MMM.N</td>\n",
       "      <td>Industrial Conglomerates</td>\n",
       "      <td>58.0</td>\n",
       "      <td>1.254875</td>\n",
       "    </tr>\n",
       "    <tr>\n",
       "      <th>2016-06-30</th>\n",
       "      <td>MMM.N</td>\n",
       "      <td>Industrial Conglomerates</td>\n",
       "      <td>54.0</td>\n",
       "      <td>5.718277</td>\n",
       "    </tr>\n",
       "    <tr>\n",
       "      <th>2016-03-31</th>\n",
       "      <td>MMM.N</td>\n",
       "      <td>Industrial Conglomerates</td>\n",
       "      <td>46.0</td>\n",
       "      <td>11.420105</td>\n",
       "    </tr>\n",
       "    <tr>\n",
       "      <th>2015-12-31</th>\n",
       "      <td>MMM.N</td>\n",
       "      <td>Industrial Conglomerates</td>\n",
       "      <td>37.0</td>\n",
       "      <td>6.948607</td>\n",
       "    </tr>\n",
       "    <tr>\n",
       "      <th>2017-09-30</th>\n",
       "      <td>AXP.N</td>\n",
       "      <td>Banking Services</td>\n",
       "      <td>66.0</td>\n",
       "      <td>7.788457</td>\n",
       "    </tr>\n",
       "    <tr>\n",
       "      <th>2017-06-30</th>\n",
       "      <td>AXP.N</td>\n",
       "      <td>Banking Services</td>\n",
       "      <td>77.0</td>\n",
       "      <td>6.787863</td>\n",
       "    </tr>\n",
       "  </tbody>\n",
       "</table>\n",
       "</div>"
      ],
      "text/plain": [
       "           Instrument  TRBC Industry Group Name  \\\n",
       "Date                                              \n",
       "2017-09-30      MMM.N  Industrial Conglomerates   \n",
       "2017-06-30      MMM.N  Industrial Conglomerates   \n",
       "2017-03-31      MMM.N  Industrial Conglomerates   \n",
       "2016-12-31      MMM.N  Industrial Conglomerates   \n",
       "2016-09-30      MMM.N  Industrial Conglomerates   \n",
       "2016-06-30      MMM.N  Industrial Conglomerates   \n",
       "2016-03-31      MMM.N  Industrial Conglomerates   \n",
       "2015-12-31      MMM.N  Industrial Conglomerates   \n",
       "2017-09-30      AXP.N          Banking Services   \n",
       "2017-06-30      AXP.N          Banking Services   \n",
       "\n",
       "            Combined Alpha Model Country Rank  3 Month Total Return  \n",
       "Date                                                                 \n",
       "2017-09-30                               57.0              1.405887  \n",
       "2017-06-30                               74.0              9.496815  \n",
       "2017-03-31                               65.0              7.838536  \n",
       "2016-12-31                               65.0              1.981690  \n",
       "2016-09-30                               58.0              1.254875  \n",
       "2016-06-30                               54.0              5.718277  \n",
       "2016-03-31                               46.0             11.420105  \n",
       "2015-12-31                               37.0              6.948607  \n",
       "2017-09-30                               66.0              7.788457  \n",
       "2017-06-30                               77.0              6.787863  "
      ]
     },
     "execution_count": 7,
     "metadata": {},
     "output_type": "execute_result"
    }
   ],
   "source": [
    "ads1['TRBC Industry Group Name'].fillna(method='ffill',limit=7, inplace=True)\n",
    "ads1.head(10)"
   ]
  },
  {
   "cell_type": "markdown",
   "metadata": {
    "collapsed": true
   },
   "source": [
    "So now our Dataframe is seemingly in good shape - what are we going to do next? We can start with the question do higher CAM score leads to better performance? Or put more generically, are CAM scores RELATED to performance? Remember these CAM scores are dynamic and change overtime depending on changes in their underlying components AND relative to other companies in the universe (in this case companies in the same country). \n",
    "\n",
    "So lets just see what this looks like in terms of a scatterplot for one sector of the Dow. Here we are just filtering the frame using a text filter and aggregating using a groupby statement. In this case we have 2 companies."
   ]
  },
  {
   "cell_type": "code",
   "execution_count": 8,
   "metadata": {
    "collapsed": false
   },
   "outputs": [
    {
     "data": {
      "image/png": "[encoded data removed]",
      "text/plain": [
       "<matplotlib.figure.Figure at 0xc5544a8>"
      ]
     },
     "metadata": {},
     "output_type": "display_data"
    },
    {
     "data": {
      "image/png": "[encoded data removed]",
      "text/plain": [
       "<matplotlib.figure.Figure at 0xc554438>"
      ]
     },
     "metadata": {},
     "output_type": "display_data"
    }
   ],
   "source": [
    "%matplotlib inline\n",
    "adsl = ads1[ads1['TRBC Industry Group Name'] =='Industrial Conglomerates']\n",
    "adsl = adsl.groupby('Instrument')\n",
    "ax = adsl.plot(x='Combined Alpha Model Country Rank', y='3 Month Total Return', kind='scatter')"
   ]
  },
  {
   "cell_type": "markdown",
   "metadata": {},
   "source": [
    "So lets be clear about what we are looking at. Each dot represents a pair of observations for CAM rank and 3M total return for a quarter - we should have 8 quarters of observations for each instrument. So we could implement a simple linear regression and that would have different parameters such as intercept, slope. \n",
    "\n",
    "As I am in exploratory mode - I just am interested in the slope of the best fit linear line (of the form y = ax + b), where a is the slope coefficient. This should offer me some indication of how 3 Month total returns change for an increase in CAM rank. So our slope coefficient can tell us for example whether our variables are positively related (positive a) or negatively related (negative a) or really not related at all (near zero a). \n",
    "\n",
    "We can also more formally calculate Spearman's Rank Correlation Coefficient which will give us a more rigorous measure of relatedness and also a probability that the null hypothesis (the two variables are not related) is true.\n",
    "\n",
    "So rather than create plots for everything we can just create a model to provide the linear best fit solution for each instrument and then store that value in a new column as well as calculating the Spearman's Rank Correlation Coefficient and p-value. \n",
    "\n",
    "First, I want to check for if any data is null as this may result in errors downstream."
   ]
  },
  {
   "cell_type": "code",
   "execution_count": 9,
   "metadata": {
    "collapsed": false
   },
   "outputs": [
    {
     "data": {
      "text/plain": [
       "4"
      ]
     },
     "execution_count": 9,
     "metadata": {},
     "output_type": "execute_result"
    }
   ],
   "source": [
    "ads1.isnull().any().count()"
   ]
  },
  {
   "cell_type": "markdown",
   "metadata": {},
   "source": [
    "Here we can see there are 4 null values in our dataset - we can deal with these by replacing them with either mean values or most recent values. In our case, I choose the latter and will use a forward fill function to replace nulls: "
   ]
  },
  {
   "cell_type": "code",
   "execution_count": 10,
   "metadata": {
    "collapsed": true
   },
   "outputs": [],
   "source": [
    "adsNN = ads1.fillna(method='ffill')"
   ]
  },
  {
   "cell_type": "code",
   "execution_count": 11,
   "metadata": {
    "collapsed": false
   },
   "outputs": [
    {
     "data": {
      "text/plain": [
       "Instrument                           False\n",
       "TRBC Industry Group Name             False\n",
       "Combined Alpha Model Country Rank    False\n",
       "3 Month Total Return                 False\n",
       "dtype: bool"
      ]
     },
     "execution_count": 11,
     "metadata": {},
     "output_type": "execute_result"
    }
   ],
   "source": [
    "adsNN.isnull().any()"
   ]
  },
  {
   "cell_type": "markdown",
   "metadata": {},
   "source": [
    "Now we have confirmed we have no null values we can move on. Next we will use the Linear Regression model from the Linear Model tools from Scikit Learn package. We want to solve for 8 quarters of data for each Instrument. So we iterate over each intrument then use the model.fit method to generate the best fit linear solution (OLS) and then store the 'coef_' parameter of the model as a new column in the adsNN dataframe called 'slope'. \n",
    "\n",
    "Whilst we are here we will also calculate a Spearman's Rank Correlation Coefficient using a routine from scipy package. The routine returns 2 values, the first is the Coefficient (Rho) and the second is the p-value. I just store these 2 elements in 2 seperate columns."
   ]
  },
  {
   "cell_type": "code",
   "execution_count": 12,
   "metadata": {
    "collapsed": false
   },
   "outputs": [
    {
     "data": {
      "text/html": [
       "<div>\n",
       "<table border=\"1\" class=\"dataframe\">\n",
       "  <thead>\n",
       "    <tr style=\"text-align: right;\">\n",
       "      <th></th>\n",
       "      <th>Instrument</th>\n",
       "      <th>TRBC Industry Group Name</th>\n",
       "      <th>Combined Alpha Model Country Rank</th>\n",
       "      <th>3 Month Total Return</th>\n",
       "      <th>slope</th>\n",
       "      <th>Rho</th>\n",
       "      <th>p</th>\n",
       "    </tr>\n",
       "    <tr>\n",
       "      <th>Date</th>\n",
       "      <th></th>\n",
       "      <th></th>\n",
       "      <th></th>\n",
       "      <th></th>\n",
       "      <th></th>\n",
       "      <th></th>\n",
       "      <th></th>\n",
       "    </tr>\n",
       "  </thead>\n",
       "  <tbody>\n",
       "    <tr>\n",
       "      <th>2017-09-30</th>\n",
       "      <td>MMM.N</td>\n",
       "      <td>Industrial Conglomerates</td>\n",
       "      <td>57.0</td>\n",
       "      <td>1.405887</td>\n",
       "      <td>-0.042706</td>\n",
       "      <td>-0.035929</td>\n",
       "      <td>0.932691</td>\n",
       "    </tr>\n",
       "    <tr>\n",
       "      <th>2017-06-30</th>\n",
       "      <td>MMM.N</td>\n",
       "      <td>Industrial Conglomerates</td>\n",
       "      <td>74.0</td>\n",
       "      <td>9.496815</td>\n",
       "      <td>-0.042706</td>\n",
       "      <td>-0.035929</td>\n",
       "      <td>0.932691</td>\n",
       "    </tr>\n",
       "    <tr>\n",
       "      <th>2017-03-31</th>\n",
       "      <td>MMM.N</td>\n",
       "      <td>Industrial Conglomerates</td>\n",
       "      <td>65.0</td>\n",
       "      <td>7.838536</td>\n",
       "      <td>-0.042706</td>\n",
       "      <td>-0.035929</td>\n",
       "      <td>0.932691</td>\n",
       "    </tr>\n",
       "    <tr>\n",
       "      <th>2016-12-31</th>\n",
       "      <td>MMM.N</td>\n",
       "      <td>Industrial Conglomerates</td>\n",
       "      <td>65.0</td>\n",
       "      <td>1.981690</td>\n",
       "      <td>-0.042706</td>\n",
       "      <td>-0.035929</td>\n",
       "      <td>0.932691</td>\n",
       "    </tr>\n",
       "    <tr>\n",
       "      <th>2016-09-30</th>\n",
       "      <td>MMM.N</td>\n",
       "      <td>Industrial Conglomerates</td>\n",
       "      <td>58.0</td>\n",
       "      <td>1.254875</td>\n",
       "      <td>-0.042706</td>\n",
       "      <td>-0.035929</td>\n",
       "      <td>0.932691</td>\n",
       "    </tr>\n",
       "    <tr>\n",
       "      <th>2016-06-30</th>\n",
       "      <td>MMM.N</td>\n",
       "      <td>Industrial Conglomerates</td>\n",
       "      <td>54.0</td>\n",
       "      <td>5.718277</td>\n",
       "      <td>-0.042706</td>\n",
       "      <td>-0.035929</td>\n",
       "      <td>0.932691</td>\n",
       "    </tr>\n",
       "    <tr>\n",
       "      <th>2016-03-31</th>\n",
       "      <td>MMM.N</td>\n",
       "      <td>Industrial Conglomerates</td>\n",
       "      <td>46.0</td>\n",
       "      <td>11.420105</td>\n",
       "      <td>-0.042706</td>\n",
       "      <td>-0.035929</td>\n",
       "      <td>0.932691</td>\n",
       "    </tr>\n",
       "    <tr>\n",
       "      <th>2015-12-31</th>\n",
       "      <td>MMM.N</td>\n",
       "      <td>Industrial Conglomerates</td>\n",
       "      <td>37.0</td>\n",
       "      <td>6.948607</td>\n",
       "      <td>-0.042706</td>\n",
       "      <td>-0.035929</td>\n",
       "      <td>0.932691</td>\n",
       "    </tr>\n",
       "    <tr>\n",
       "      <th>2017-09-30</th>\n",
       "      <td>AXP.N</td>\n",
       "      <td>Banking Services</td>\n",
       "      <td>66.0</td>\n",
       "      <td>7.788457</td>\n",
       "      <td>0.580752</td>\n",
       "      <td>0.666667</td>\n",
       "      <td>0.070988</td>\n",
       "    </tr>\n",
       "    <tr>\n",
       "      <th>2017-06-30</th>\n",
       "      <td>AXP.N</td>\n",
       "      <td>Banking Services</td>\n",
       "      <td>77.0</td>\n",
       "      <td>6.787863</td>\n",
       "      <td>0.580752</td>\n",
       "      <td>0.666667</td>\n",
       "      <td>0.070988</td>\n",
       "    </tr>\n",
       "  </tbody>\n",
       "</table>\n",
       "</div>"
      ],
      "text/plain": [
       "           Instrument  TRBC Industry Group Name  \\\n",
       "Date                                              \n",
       "2017-09-30      MMM.N  Industrial Conglomerates   \n",
       "2017-06-30      MMM.N  Industrial Conglomerates   \n",
       "2017-03-31      MMM.N  Industrial Conglomerates   \n",
       "2016-12-31      MMM.N  Industrial Conglomerates   \n",
       "2016-09-30      MMM.N  Industrial Conglomerates   \n",
       "2016-06-30      MMM.N  Industrial Conglomerates   \n",
       "2016-03-31      MMM.N  Industrial Conglomerates   \n",
       "2015-12-31      MMM.N  Industrial Conglomerates   \n",
       "2017-09-30      AXP.N          Banking Services   \n",
       "2017-06-30      AXP.N          Banking Services   \n",
       "\n",
       "            Combined Alpha Model Country Rank  3 Month Total Return     slope  \\\n",
       "Date                                                                            \n",
       "2017-09-30                               57.0              1.405887 -0.042706   \n",
       "2017-06-30                               74.0              9.496815 -0.042706   \n",
       "2017-03-31                               65.0              7.838536 -0.042706   \n",
       "2016-12-31                               65.0              1.981690 -0.042706   \n",
       "2016-09-30                               58.0              1.254875 -0.042706   \n",
       "2016-06-30                               54.0              5.718277 -0.042706   \n",
       "2016-03-31                               46.0             11.420105 -0.042706   \n",
       "2015-12-31                               37.0              6.948607 -0.042706   \n",
       "2017-09-30                               66.0              7.788457  0.580752   \n",
       "2017-06-30                               77.0              6.787863  0.580752   \n",
       "\n",
       "                 Rho         p  \n",
       "Date                            \n",
       "2017-09-30 -0.035929  0.932691  \n",
       "2017-06-30 -0.035929  0.932691  \n",
       "2017-03-31 -0.035929  0.932691  \n",
       "2016-12-31 -0.035929  0.932691  \n",
       "2016-09-30 -0.035929  0.932691  \n",
       "2016-06-30 -0.035929  0.932691  \n",
       "2016-03-31 -0.035929  0.932691  \n",
       "2015-12-31 -0.035929  0.932691  \n",
       "2017-09-30  0.666667  0.070988  \n",
       "2017-06-30  0.666667  0.070988  "
      ]
     },
     "execution_count": 12,
     "metadata": {},
     "output_type": "execute_result"
    }
   ],
   "source": [
    "import sklearn\n",
    "import scipy\n",
    "from sklearn import linear_model\n",
    "model = linear_model.LinearRegression()\n",
    "for (group, adsNN_gp) in adsNN.groupby('Instrument'):\n",
    "    X=adsNN_gp[['Combined Alpha Model Country Rank']]\n",
    "    y=adsNN_gp[['3 Month Total Return']]\n",
    "    model.fit(X,y)\n",
    "    spearmans = scipy.stats.spearmanr(X,y)\n",
    "    adsNN.loc[adsNN.Instrument == adsNN_gp.iloc[0].Instrument, 'slope'] = model.coef_\n",
    "    adsNN.loc[adsNN.Instrument == adsNN_gp.iloc[0].Instrument, 'Rho'] = spearmans[0]\n",
    "    adsNN.loc[adsNN.Instrument == adsNN_gp.iloc[0].Instrument, 'p'] = spearmans[1]\n",
    "\n",
    "adsNN.head(10)"
   ]
  },
  {
   "cell_type": "markdown",
   "metadata": {},
   "source": [
    "Voila - I have all the calculations I requested and I think I just want to average these by Instrument so I can get a summary view. (note averaging the slope, Rho and p values does not change them as they were calculated once for the 8 periods and just copied 8 times). "
   ]
  },
  {
   "cell_type": "code",
   "execution_count": 13,
   "metadata": {
    "collapsed": false,
    "scrolled": true
   },
   "outputs": [
    {
     "data": {
      "text/html": [
       "<div>\n",
       "<table border=\"1\" class=\"dataframe\">\n",
       "  <thead>\n",
       "    <tr style=\"text-align: right;\">\n",
       "      <th></th>\n",
       "      <th>Combined Alpha Model Country Rank</th>\n",
       "      <th>3 Month Total Return</th>\n",
       "      <th>slope</th>\n",
       "      <th>Rho</th>\n",
       "      <th>p</th>\n",
       "    </tr>\n",
       "    <tr>\n",
       "      <th>Instrument</th>\n",
       "      <th></th>\n",
       "      <th></th>\n",
       "      <th></th>\n",
       "      <th></th>\n",
       "      <th></th>\n",
       "    </tr>\n",
       "  </thead>\n",
       "  <tbody>\n",
       "    <tr>\n",
       "      <th>AAPL.OQ</th>\n",
       "      <td>73.875</td>\n",
       "      <td>5.195261</td>\n",
       "      <td>-0.415002</td>\n",
       "      <td>-0.238095</td>\n",
       "      <td>0.570156</td>\n",
       "    </tr>\n",
       "    <tr>\n",
       "      <th>AXP.N</th>\n",
       "      <td>65.375</td>\n",
       "      <td>3.509887</td>\n",
       "      <td>0.580752</td>\n",
       "      <td>0.666667</td>\n",
       "      <td>0.070988</td>\n",
       "    </tr>\n",
       "    <tr>\n",
       "      <th>BA.N</th>\n",
       "      <td>80.000</td>\n",
       "      <td>9.847959</td>\n",
       "      <td>0.774764</td>\n",
       "      <td>0.706599</td>\n",
       "      <td>0.050063</td>\n",
       "    </tr>\n",
       "    <tr>\n",
       "      <th>CAT.N</th>\n",
       "      <td>55.375</td>\n",
       "      <td>9.602497</td>\n",
       "      <td>0.074619</td>\n",
       "      <td>0.380952</td>\n",
       "      <td>0.351813</td>\n",
       "    </tr>\n",
       "    <tr>\n",
       "      <th>CSCO.OQ</th>\n",
       "      <td>91.250</td>\n",
       "      <td>4.271595</td>\n",
       "      <td>0.101271</td>\n",
       "      <td>0.036147</td>\n",
       "      <td>0.932283</td>\n",
       "    </tr>\n",
       "    <tr>\n",
       "      <th>CVX.N</th>\n",
       "      <td>61.000</td>\n",
       "      <td>6.544678</td>\n",
       "      <td>0.167824</td>\n",
       "      <td>0.299407</td>\n",
       "      <td>0.471261</td>\n",
       "    </tr>\n",
       "    <tr>\n",
       "      <th>DIS.N</th>\n",
       "      <td>41.250</td>\n",
       "      <td>0.215785</td>\n",
       "      <td>0.175213</td>\n",
       "      <td>0.047619</td>\n",
       "      <td>0.910849</td>\n",
       "    </tr>\n",
       "    <tr>\n",
       "      <th>DWDP.N</th>\n",
       "      <td>19.000</td>\n",
       "      <td>3.051503</td>\n",
       "      <td>0.000000</td>\n",
       "      <td>NaN</td>\n",
       "      <td>NaN</td>\n",
       "    </tr>\n",
       "    <tr>\n",
       "      <th>GE.N</th>\n",
       "      <td>74.625</td>\n",
       "      <td>0.738084</td>\n",
       "      <td>-0.185066</td>\n",
       "      <td>0.309524</td>\n",
       "      <td>0.455645</td>\n",
       "    </tr>\n",
       "    <tr>\n",
       "      <th>GS.N</th>\n",
       "      <td>49.250</td>\n",
       "      <td>5.564424</td>\n",
       "      <td>0.619657</td>\n",
       "      <td>0.610789</td>\n",
       "      <td>0.107721</td>\n",
       "    </tr>\n",
       "    <tr>\n",
       "      <th>HD.N</th>\n",
       "      <td>81.125</td>\n",
       "      <td>5.141574</td>\n",
       "      <td>-0.559756</td>\n",
       "      <td>-0.595238</td>\n",
       "      <td>0.119530</td>\n",
       "    </tr>\n",
       "    <tr>\n",
       "      <th>IBM.N</th>\n",
       "      <td>78.625</td>\n",
       "      <td>1.454870</td>\n",
       "      <td>0.000606</td>\n",
       "      <td>-0.289178</td>\n",
       "      <td>0.487261</td>\n",
       "    </tr>\n",
       "    <tr>\n",
       "      <th>INTC.OQ</th>\n",
       "      <td>85.375</td>\n",
       "      <td>4.088071</td>\n",
       "      <td>0.352581</td>\n",
       "      <td>0.395217</td>\n",
       "      <td>0.332517</td>\n",
       "    </tr>\n",
       "    <tr>\n",
       "      <th>JNJ.N</th>\n",
       "      <td>86.625</td>\n",
       "      <td>4.975873</td>\n",
       "      <td>0.160626</td>\n",
       "      <td>0.059881</td>\n",
       "      <td>0.887991</td>\n",
       "    </tr>\n",
       "    <tr>\n",
       "      <th>JPM.N</th>\n",
       "      <td>88.875</td>\n",
       "      <td>6.677507</td>\n",
       "      <td>0.511293</td>\n",
       "      <td>0.047619</td>\n",
       "      <td>0.910849</td>\n",
       "    </tr>\n",
       "    <tr>\n",
       "      <th>KO.N</th>\n",
       "      <td>60.250</td>\n",
       "      <td>2.287097</td>\n",
       "      <td>0.011978</td>\n",
       "      <td>-0.119048</td>\n",
       "      <td>0.778886</td>\n",
       "    </tr>\n",
       "    <tr>\n",
       "      <th>MCD.N</th>\n",
       "      <td>76.250</td>\n",
       "      <td>7.080045</td>\n",
       "      <td>0.596103</td>\n",
       "      <td>0.574861</td>\n",
       "      <td>0.136058</td>\n",
       "    </tr>\n",
       "    <tr>\n",
       "      <th>MMM.N</th>\n",
       "      <td>57.000</td>\n",
       "      <td>5.758099</td>\n",
       "      <td>-0.042706</td>\n",
       "      <td>-0.035929</td>\n",
       "      <td>0.932691</td>\n",
       "    </tr>\n",
       "    <tr>\n",
       "      <th>MRK.N</th>\n",
       "      <td>87.750</td>\n",
       "      <td>4.167913</td>\n",
       "      <td>0.764098</td>\n",
       "      <td>0.838338</td>\n",
       "      <td>0.009323</td>\n",
       "    </tr>\n",
       "    <tr>\n",
       "      <th>MSFT.OQ</th>\n",
       "      <td>90.500</td>\n",
       "      <td>7.836693</td>\n",
       "      <td>0.040697</td>\n",
       "      <td>0.059881</td>\n",
       "      <td>0.887991</td>\n",
       "    </tr>\n",
       "    <tr>\n",
       "      <th>NKE.N</th>\n",
       "      <td>29.625</td>\n",
       "      <td>-1.740508</td>\n",
       "      <td>0.213786</td>\n",
       "      <td>0.730552</td>\n",
       "      <td>0.039556</td>\n",
       "    </tr>\n",
       "    <tr>\n",
       "      <th>PFE.N</th>\n",
       "      <td>84.375</td>\n",
       "      <td>2.602840</td>\n",
       "      <td>0.288559</td>\n",
       "      <td>0.357143</td>\n",
       "      <td>0.385121</td>\n",
       "    </tr>\n",
       "    <tr>\n",
       "      <th>PG.N</th>\n",
       "      <td>68.000</td>\n",
       "      <td>3.837856</td>\n",
       "      <td>0.251476</td>\n",
       "      <td>0.035929</td>\n",
       "      <td>0.932691</td>\n",
       "    </tr>\n",
       "    <tr>\n",
       "      <th>TRV.N</th>\n",
       "      <td>77.250</td>\n",
       "      <td>3.225188</td>\n",
       "      <td>0.335607</td>\n",
       "      <td>0.706599</td>\n",
       "      <td>0.050063</td>\n",
       "    </tr>\n",
       "    <tr>\n",
       "      <th>UNH.N</th>\n",
       "      <td>89.375</td>\n",
       "      <td>7.168842</td>\n",
       "      <td>0.444293</td>\n",
       "      <td>0.313276</td>\n",
       "      <td>0.449908</td>\n",
       "    </tr>\n",
       "    <tr>\n",
       "      <th>UTX.N</th>\n",
       "      <td>84.500</td>\n",
       "      <td>4.074656</td>\n",
       "      <td>-0.212942</td>\n",
       "      <td>-0.359288</td>\n",
       "      <td>0.382065</td>\n",
       "    </tr>\n",
       "    <tr>\n",
       "      <th>V.N</th>\n",
       "      <td>27.625</td>\n",
       "      <td>5.676034</td>\n",
       "      <td>-0.060229</td>\n",
       "      <td>-0.089392</td>\n",
       "      <td>0.833281</td>\n",
       "    </tr>\n",
       "    <tr>\n",
       "      <th>VZ.N</th>\n",
       "      <td>75.250</td>\n",
       "      <td>3.136394</td>\n",
       "      <td>0.414491</td>\n",
       "      <td>0.714286</td>\n",
       "      <td>0.046528</td>\n",
       "    </tr>\n",
       "    <tr>\n",
       "      <th>WMT.N</th>\n",
       "      <td>85.375</td>\n",
       "      <td>3.266748</td>\n",
       "      <td>-0.078561</td>\n",
       "      <td>-0.047619</td>\n",
       "      <td>0.910849</td>\n",
       "    </tr>\n",
       "    <tr>\n",
       "      <th>XOM.N</th>\n",
       "      <td>35.625</td>\n",
       "      <td>1.958404</td>\n",
       "      <td>0.082098</td>\n",
       "      <td>0.011976</td>\n",
       "      <td>0.977547</td>\n",
       "    </tr>\n",
       "  </tbody>\n",
       "</table>\n",
       "</div>"
      ],
      "text/plain": [
       "            Combined Alpha Model Country Rank  3 Month Total Return     slope  \\\n",
       "Instrument                                                                      \n",
       "AAPL.OQ                                73.875              5.195261 -0.415002   \n",
       "AXP.N                                  65.375              3.509887  0.580752   \n",
       "BA.N                                   80.000              9.847959  0.774764   \n",
       "CAT.N                                  55.375              9.602497  0.074619   \n",
       "CSCO.OQ                                91.250              4.271595  0.101271   \n",
       "CVX.N                                  61.000              6.544678  0.167824   \n",
       "DIS.N                                  41.250              0.215785  0.175213   \n",
       "DWDP.N                                 19.000              3.051503  0.000000   \n",
       "GE.N                                   74.625              0.738084 -0.185066   \n",
       "GS.N                                   49.250              5.564424  0.619657   \n",
       "HD.N                                   81.125              5.141574 -0.559756   \n",
       "IBM.N                                  78.625              1.454870  0.000606   \n",
       "INTC.OQ                                85.375              4.088071  0.352581   \n",
       "JNJ.N                                  86.625              4.975873  0.160626   \n",
       "JPM.N                                  88.875              6.677507  0.511293   \n",
       "KO.N                                   60.250              2.287097  0.011978   \n",
       "MCD.N                                  76.250              7.080045  0.596103   \n",
       "MMM.N                                  57.000              5.758099 -0.042706   \n",
       "MRK.N                                  87.750              4.167913  0.764098   \n",
       "MSFT.OQ                                90.500              7.836693  0.040697   \n",
       "NKE.N                                  29.625             -1.740508  0.213786   \n",
       "PFE.N                                  84.375              2.602840  0.288559   \n",
       "PG.N                                   68.000              3.837856  0.251476   \n",
       "TRV.N                                  77.250              3.225188  0.335607   \n",
       "UNH.N                                  89.375              7.168842  0.444293   \n",
       "UTX.N                                  84.500              4.074656 -0.212942   \n",
       "V.N                                    27.625              5.676034 -0.060229   \n",
       "VZ.N                                   75.250              3.136394  0.414491   \n",
       "WMT.N                                  85.375              3.266748 -0.078561   \n",
       "XOM.N                                  35.625              1.958404  0.082098   \n",
       "\n",
       "                 Rho         p  \n",
       "Instrument                      \n",
       "AAPL.OQ    -0.238095  0.570156  \n",
       "AXP.N       0.666667  0.070988  \n",
       "BA.N        0.706599  0.050063  \n",
       "CAT.N       0.380952  0.351813  \n",
       "CSCO.OQ     0.036147  0.932283  \n",
       "CVX.N       0.299407  0.471261  \n",
       "DIS.N       0.047619  0.910849  \n",
       "DWDP.N           NaN       NaN  \n",
       "GE.N        0.309524  0.455645  \n",
       "GS.N        0.610789  0.107721  \n",
       "HD.N       -0.595238  0.119530  \n",
       "IBM.N      -0.289178  0.487261  \n",
       "INTC.OQ     0.395217  0.332517  \n",
       "JNJ.N       0.059881  0.887991  \n",
       "JPM.N       0.047619  0.910849  \n",
       "KO.N       -0.119048  0.778886  \n",
       "MCD.N       0.574861  0.136058  \n",
       "MMM.N      -0.035929  0.932691  \n",
       "MRK.N       0.838338  0.009323  \n",
       "MSFT.OQ     0.059881  0.887991  \n",
       "NKE.N       0.730552  0.039556  \n",
       "PFE.N       0.357143  0.385121  \n",
       "PG.N        0.035929  0.932691  \n",
       "TRV.N       0.706599  0.050063  \n",
       "UNH.N       0.313276  0.449908  \n",
       "UTX.N      -0.359288  0.382065  \n",
       "V.N        -0.089392  0.833281  \n",
       "VZ.N        0.714286  0.046528  \n",
       "WMT.N      -0.047619  0.910849  \n",
       "XOM.N       0.011976  0.977547  "
      ]
     },
     "execution_count": 13,
     "metadata": {},
     "output_type": "execute_result"
    }
   ],
   "source": [
    "Averages = adsNN.groupby(['Instrument']).mean()\n",
    "Averages"
   ]
  },
  {
   "cell_type": "markdown",
   "metadata": {},
   "source": [
    "### Conclusion\n",
    "\n",
    "So now we have a summarised view of our study - can we answer the question posited earlier? 'Are CAM scores RELATED to performance?' Let us have a look at average CAM score versus average 3 month total return (over 8 quarters). This seems to indicate that there is a positive relation between the two variables."
   ]
  },
  {
   "cell_type": "code",
   "execution_count": 14,
   "metadata": {
    "collapsed": false
   },
   "outputs": [
    {
     "data": {
      "image/png": "[encoded data removed]",
      "text/plain": [
       "<matplotlib.figure.Figure at 0xc7e2eb8>"
      ]
     },
     "metadata": {},
     "output_type": "display_data"
    }
   ],
   "source": [
    "ax = Averages.plot(x='Combined Alpha Model Country Rank', y='3 Month Total Return', kind='scatter')"
   ]
  },
  {
   "cell_type": "markdown",
   "metadata": {},
   "source": [
    "We can check this further by running the same Spearman's Rank Correlation Coefficient test against these summary results. Here we can see Rho of 31.26 which is positive and with p of 0.092 the null hypothesis can be safetly rejected. "
   ]
  },
  {
   "cell_type": "code",
   "execution_count": 15,
   "metadata": {
    "collapsed": false
   },
   "outputs": [
    {
     "name": "stdout",
     "output_type": "stream",
     "text": [
      "0.312604296072 0.0925882700203\n"
     ]
    }
   ],
   "source": [
    "spearmans = scipy.stats.spearmanr(Averages['Combined Alpha Model Country Rank'],Averages['3 Month Total Return'])\n",
    "Rho = spearmans[0]\n",
    "p = spearmans[1]\n",
    "print Rho,p"
   ]
  },
  {
   "cell_type": "markdown",
   "metadata": {},
   "source": [
    "Looking at the distribution of Rho and p we can see that there are a range of relations between CAM score and performance from negative to positive with some showing no relation at all. There appear to be groups of companies displaying differing characteristics, maybe some of these could be exploitable - though you would need to conduct more research to confirm this.\n",
    "\n",
    "This was not meant to be a conclusive study, more a taster of what is possible using our data in the python ecosystem. This analysis was done on one Equity index the Dow - but you could easily try this for any equity index - maybe some markets are more responsive than others, maybe looking at a longer term return say 12 months might be interesting. There is plenty of scope. I hope to have shown you that it can be straightforward to produce relatively complex studies from a small amount of code. "
   ]
  },
  {
   "cell_type": "code",
   "execution_count": 16,
   "metadata": {
    "collapsed": false
   },
   "outputs": [
    {
     "data": {
      "image/png": "[encoded data removed]",
      "text/plain": [
       "<matplotlib.figure.Figure at 0x4b7c358>"
      ]
     },
     "metadata": {},
     "output_type": "display_data"
    }
   ],
   "source": [
    "bx = Averages.plot(x='Rho', y='p', kind='scatter')"
   ]
  },
  {
   "cell_type": "markdown",
   "metadata": {},
   "source": [
    "Author: jason.ramchandani@tr.com"
   ]
  }
 ],
 "metadata": {
  "kernelspec": {
   "display_name": "Python 2",
   "language": "python",
   "name": "python2"
  },
  "language_info": {
   "codemirror_mode": {
    "name": "ipython",
    "version": 2
   },
   "file_extension": ".py",
   "mimetype": "text/x-python",
   "name": "python",
   "nbconvert_exporter": "python",
   "pygments_lexer": "ipython2",
   "version": "2.7.11"
  }
 },
 "nbformat": 4,
 "nbformat_minor": 0
}
